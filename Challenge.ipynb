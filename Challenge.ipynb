{
 "cells": [
  {
   "cell_type": "markdown",
   "metadata": {},
   "source": [
    "## Loading Required Libraries"
   ]
  },
  {
   "cell_type": "code",
   "execution_count": 1,
   "metadata": {},
   "outputs": [],
   "source": [
    "import pandas as pd\n",
    "import numpy as np\n",
    "import matplotlib.pyplot as plt\n",
    "import seaborn as sns\n",
    "from sklearn.model_selection import train_test_split, GridSearchCV, RepeatedStratifiedKFold, RandomizedSearchCV, cross_val_score\n",
    "from sklearn.linear_model import LogisticRegression\n",
    "from sklearn.neighbors import KNeighborsClassifier\n",
    "from sklearn.naive_bayes import GaussianNB\n",
    "from sklearn.svm import SVC\n",
    "from sklearn.tree import DecisionTreeClassifier\n",
    "import xgboost as xgb\n",
    "from sklearn.ensemble import RandomForestClassifier\n",
    "from sklearn.metrics import confusion_matrix, classification_report, roc_curve, auc, accuracy_score\n",
    "from cf_matrix import make_confusion_matrix\n",
    "from sklearn.discriminant_analysis import LinearDiscriminantAnalysis, QuadraticDiscriminantAnalysis\n",
    "from pprint import pprint"
   ]
  },
  {
   "cell_type": "markdown",
   "metadata": {},
   "source": [
    "## Loading Data"
   ]
  },
  {
   "cell_type": "code",
   "execution_count": 2,
   "metadata": {},
   "outputs": [],
   "source": [
    "df = pd.read_csv('data.csv', delimiter = \",\")"
   ]
  },
  {
   "cell_type": "markdown",
   "metadata": {},
   "source": [
    "## Exploring Data"
   ]
  },
  {
   "cell_type": "code",
   "execution_count": 3,
   "metadata": {},
   "outputs": [
    {
     "name": "stdout",
     "output_type": "stream",
     "text": [
      "Number of records: 99198\n",
      "Number of variables: 26\n"
     ]
    },
    {
     "data": {
      "text/html": [
       "<div>\n",
       "<style scoped>\n",
       "    .dataframe tbody tr th:only-of-type {\n",
       "        vertical-align: middle;\n",
       "    }\n",
       "\n",
       "    .dataframe tbody tr th {\n",
       "        vertical-align: top;\n",
       "    }\n",
       "\n",
       "    .dataframe thead th {\n",
       "        text-align: right;\n",
       "    }\n",
       "</style>\n",
       "<table border=\"1\" class=\"dataframe\">\n",
       "  <thead>\n",
       "    <tr style=\"text-align: right;\">\n",
       "      <th></th>\n",
       "      <th>Unnamed: 0</th>\n",
       "      <th>ID</th>\n",
       "      <th>ID_status</th>\n",
       "      <th>active</th>\n",
       "      <th>count_reassign</th>\n",
       "      <th>count_opening</th>\n",
       "      <th>count_updated</th>\n",
       "      <th>ID_caller</th>\n",
       "      <th>opened_by</th>\n",
       "      <th>opened_time</th>\n",
       "      <th>...</th>\n",
       "      <th>category_ID</th>\n",
       "      <th>user_symptom</th>\n",
       "      <th>Support_group</th>\n",
       "      <th>support_incharge</th>\n",
       "      <th>Doc_knowledge</th>\n",
       "      <th>confirmation_check</th>\n",
       "      <th>impact</th>\n",
       "      <th>notify</th>\n",
       "      <th>problem_ID</th>\n",
       "      <th>change_request</th>\n",
       "    </tr>\n",
       "  </thead>\n",
       "  <tbody>\n",
       "    <tr>\n",
       "      <th>0</th>\n",
       "      <td>1</td>\n",
       "      <td>INC0000045</td>\n",
       "      <td>New</td>\n",
       "      <td>True</td>\n",
       "      <td>0</td>\n",
       "      <td>0</td>\n",
       "      <td>0</td>\n",
       "      <td>Caller 2403</td>\n",
       "      <td>Opened by  8</td>\n",
       "      <td>29-02-2016 01:16</td>\n",
       "      <td>...</td>\n",
       "      <td>Category 55</td>\n",
       "      <td>Symptom 72</td>\n",
       "      <td>Group 56</td>\n",
       "      <td>?</td>\n",
       "      <td>True</td>\n",
       "      <td>False</td>\n",
       "      <td>2 - Medium</td>\n",
       "      <td>Do Not Notify</td>\n",
       "      <td>?</td>\n",
       "      <td>?</td>\n",
       "    </tr>\n",
       "    <tr>\n",
       "      <th>1</th>\n",
       "      <td>3</td>\n",
       "      <td>INC0000045</td>\n",
       "      <td>Resolved</td>\n",
       "      <td>True</td>\n",
       "      <td>0</td>\n",
       "      <td>0</td>\n",
       "      <td>3</td>\n",
       "      <td>Caller 2403</td>\n",
       "      <td>Opened by  8</td>\n",
       "      <td>29-02-2016 01:16</td>\n",
       "      <td>...</td>\n",
       "      <td>Category 55</td>\n",
       "      <td>Symptom 72</td>\n",
       "      <td>Group 56</td>\n",
       "      <td>?</td>\n",
       "      <td>True</td>\n",
       "      <td>False</td>\n",
       "      <td>2 - Medium</td>\n",
       "      <td>Do Not Notify</td>\n",
       "      <td>?</td>\n",
       "      <td>?</td>\n",
       "    </tr>\n",
       "    <tr>\n",
       "      <th>2</th>\n",
       "      <td>4</td>\n",
       "      <td>INC0000045</td>\n",
       "      <td>Closed</td>\n",
       "      <td>False</td>\n",
       "      <td>0</td>\n",
       "      <td>0</td>\n",
       "      <td>4</td>\n",
       "      <td>Caller 2403</td>\n",
       "      <td>Opened by  8</td>\n",
       "      <td>29-02-2016 01:16</td>\n",
       "      <td>...</td>\n",
       "      <td>Category 55</td>\n",
       "      <td>Symptom 72</td>\n",
       "      <td>Group 56</td>\n",
       "      <td>?</td>\n",
       "      <td>True</td>\n",
       "      <td>False</td>\n",
       "      <td>2 - Medium</td>\n",
       "      <td>Do Not Notify</td>\n",
       "      <td>?</td>\n",
       "      <td>?</td>\n",
       "    </tr>\n",
       "    <tr>\n",
       "      <th>3</th>\n",
       "      <td>6</td>\n",
       "      <td>INC0000047</td>\n",
       "      <td>Active</td>\n",
       "      <td>True</td>\n",
       "      <td>1</td>\n",
       "      <td>0</td>\n",
       "      <td>1</td>\n",
       "      <td>Caller 2403</td>\n",
       "      <td>Opened by  397</td>\n",
       "      <td>29-02-2016 04:40</td>\n",
       "      <td>...</td>\n",
       "      <td>Category 40</td>\n",
       "      <td>Symptom 471</td>\n",
       "      <td>Group 24</td>\n",
       "      <td>Resolver 31</td>\n",
       "      <td>True</td>\n",
       "      <td>False</td>\n",
       "      <td>2 - Medium</td>\n",
       "      <td>Do Not Notify</td>\n",
       "      <td>?</td>\n",
       "      <td>?</td>\n",
       "    </tr>\n",
       "    <tr>\n",
       "      <th>4</th>\n",
       "      <td>7</td>\n",
       "      <td>INC0000047</td>\n",
       "      <td>Active</td>\n",
       "      <td>True</td>\n",
       "      <td>1</td>\n",
       "      <td>0</td>\n",
       "      <td>2</td>\n",
       "      <td>Caller 2403</td>\n",
       "      <td>Opened by  397</td>\n",
       "      <td>29-02-2016 04:40</td>\n",
       "      <td>...</td>\n",
       "      <td>Category 40</td>\n",
       "      <td>Symptom 471</td>\n",
       "      <td>Group 24</td>\n",
       "      <td>Resolver 31</td>\n",
       "      <td>True</td>\n",
       "      <td>False</td>\n",
       "      <td>2 - Medium</td>\n",
       "      <td>Do Not Notify</td>\n",
       "      <td>?</td>\n",
       "      <td>?</td>\n",
       "    </tr>\n",
       "  </tbody>\n",
       "</table>\n",
       "<p>5 rows × 26 columns</p>\n",
       "</div>"
      ],
      "text/plain": [
       "   Unnamed: 0          ID ID_status  active  count_reassign  count_opening  \\\n",
       "0           1  INC0000045       New    True               0              0   \n",
       "1           3  INC0000045  Resolved    True               0              0   \n",
       "2           4  INC0000045    Closed   False               0              0   \n",
       "3           6  INC0000047    Active    True               1              0   \n",
       "4           7  INC0000047    Active    True               1              0   \n",
       "\n",
       "   count_updated    ID_caller       opened_by       opened_time  ...  \\\n",
       "0              0  Caller 2403    Opened by  8  29-02-2016 01:16  ...   \n",
       "1              3  Caller 2403    Opened by  8  29-02-2016 01:16  ...   \n",
       "2              4  Caller 2403    Opened by  8  29-02-2016 01:16  ...   \n",
       "3              1  Caller 2403  Opened by  397  29-02-2016 04:40  ...   \n",
       "4              2  Caller 2403  Opened by  397  29-02-2016 04:40  ...   \n",
       "\n",
       "   category_ID user_symptom Support_group support_incharge Doc_knowledge  \\\n",
       "0  Category 55   Symptom 72      Group 56                ?          True   \n",
       "1  Category 55   Symptom 72      Group 56                ?          True   \n",
       "2  Category 55   Symptom 72      Group 56                ?          True   \n",
       "3  Category 40  Symptom 471      Group 24      Resolver 31          True   \n",
       "4  Category 40  Symptom 471      Group 24      Resolver 31          True   \n",
       "\n",
       "  confirmation_check      impact         notify problem_ID change_request  \n",
       "0              False  2 - Medium  Do Not Notify          ?              ?  \n",
       "1              False  2 - Medium  Do Not Notify          ?              ?  \n",
       "2              False  2 - Medium  Do Not Notify          ?              ?  \n",
       "3              False  2 - Medium  Do Not Notify          ?              ?  \n",
       "4              False  2 - Medium  Do Not Notify          ?              ?  \n",
       "\n",
       "[5 rows x 26 columns]"
      ]
     },
     "execution_count": 3,
     "metadata": {},
     "output_type": "execute_result"
    }
   ],
   "source": [
    "print(f\"Number of records: {df.shape[0]}\")\n",
    "print(f\"Number of variables: {df.shape[1]}\")\n",
    "df.head()"
   ]
  },
  {
   "cell_type": "code",
   "execution_count": 4,
   "metadata": {},
   "outputs": [
    {
     "name": "stdout",
     "output_type": "stream",
     "text": [
      "<class 'pandas.core.frame.DataFrame'>\n",
      "RangeIndex: 99198 entries, 0 to 99197\n",
      "Data columns (total 26 columns):\n",
      " #   Column              Non-Null Count  Dtype \n",
      "---  ------              --------------  ----- \n",
      " 0   Unnamed: 0          99198 non-null  int64 \n",
      " 1   ID                  99198 non-null  object\n",
      " 2   ID_status           99198 non-null  object\n",
      " 3   active              99198 non-null  bool  \n",
      " 4   count_reassign      99198 non-null  int64 \n",
      " 5   count_opening       99198 non-null  int64 \n",
      " 6   count_updated       99198 non-null  int64 \n",
      " 7   ID_caller           99198 non-null  object\n",
      " 8   opened_by           99198 non-null  object\n",
      " 9   opened_time         99198 non-null  object\n",
      " 10  Created_by          99198 non-null  object\n",
      " 11  created_at          99198 non-null  object\n",
      " 12  updated_by          99198 non-null  object\n",
      " 13  updated_at          99198 non-null  object\n",
      " 14  type_contact        99198 non-null  object\n",
      " 15  location            99198 non-null  object\n",
      " 16  category_ID         99198 non-null  object\n",
      " 17  user_symptom        99198 non-null  object\n",
      " 18  Support_group       99198 non-null  object\n",
      " 19  support_incharge    99198 non-null  object\n",
      " 20  Doc_knowledge       99198 non-null  bool  \n",
      " 21  confirmation_check  99198 non-null  bool  \n",
      " 22  impact              99198 non-null  object\n",
      " 23  notify              99198 non-null  object\n",
      " 24  problem_ID          99198 non-null  object\n",
      " 25  change_request      99198 non-null  object\n",
      "dtypes: bool(3), int64(4), object(19)\n",
      "memory usage: 17.7+ MB\n"
     ]
    }
   ],
   "source": [
    "df.info()"
   ]
  },
  {
   "cell_type": "markdown",
   "metadata": {},
   "source": [
    "* The dataset has 99.198 observations and 126 variables. \n",
    "* __impact__ is the target variable and the rest is independent variables. \n",
    "* This is a classification problem since the target has categories."
   ]
  },
  {
   "cell_type": "markdown",
   "metadata": {},
   "source": [
    "### Checking the target variable"
   ]
  },
  {
   "cell_type": "code",
   "execution_count": 5,
   "metadata": {},
   "outputs": [
    {
     "data": {
      "text/plain": [
       "2 - Medium    0.947942\n",
       "3 - Low       0.027420\n",
       "1 - High      0.024638\n",
       "Name: impact, dtype: float64"
      ]
     },
     "execution_count": 5,
     "metadata": {},
     "output_type": "execute_result"
    }
   ],
   "source": [
    "df.impact.value_counts(normalize=True)"
   ]
  },
  {
   "cell_type": "markdown",
   "metadata": {},
   "source": [
    "* The target variable, _impact_ has 3 unique categories.\n",
    "* Most of the incidents were classified as medium impact."
   ]
  },
  {
   "cell_type": "markdown",
   "metadata": {},
   "source": [
    "### Mapping ordinal features"
   ]
  },
  {
   "cell_type": "markdown",
   "metadata": {},
   "source": [
    "* The impact variable has ordinal order from higher impact to lower impact. I will convert them into numeric format. It is a process which categorical variables are converted into a form that could be provided to ML algorithms to do a better job in prediction. The categorical value represents the numerical value of the entry in the dataset."
   ]
  },
  {
   "cell_type": "code",
   "execution_count": 6,
   "metadata": {},
   "outputs": [],
   "source": [
    "impact_mapping = {'1 - High': 0,\n",
    "                    '2 - Medium': 1,\n",
    "                    '3 - Low': 2}\n",
    "\n",
    "df['impact'] = df['impact'].map(impact_mapping)"
   ]
  },
  {
   "cell_type": "code",
   "execution_count": 7,
   "metadata": {},
   "outputs": [],
   "source": [
    "# reverse mapping\n",
    "# inv_impact_mapping = {v: k for k, v in impact_mapping.items()}\n",
    "# df['impact'].map(inv_impact_mapping)"
   ]
  },
  {
   "cell_type": "markdown",
   "metadata": {},
   "source": [
    "### Missing Values"
   ]
  },
  {
   "cell_type": "code",
   "execution_count": 8,
   "metadata": {},
   "outputs": [
    {
     "data": {
      "text/plain": [
       "Unnamed: 0            0\n",
       "ID                    0\n",
       "ID_status             0\n",
       "active                0\n",
       "count_reassign        0\n",
       "count_opening         0\n",
       "count_updated         0\n",
       "ID_caller             0\n",
       "opened_by             0\n",
       "opened_time           0\n",
       "Created_by            0\n",
       "created_at            0\n",
       "updated_by            0\n",
       "updated_at            0\n",
       "type_contact          0\n",
       "location              0\n",
       "category_ID           0\n",
       "user_symptom          0\n",
       "Support_group         0\n",
       "support_incharge      0\n",
       "Doc_knowledge         0\n",
       "confirmation_check    0\n",
       "impact                0\n",
       "notify                0\n",
       "problem_ID            0\n",
       "change_request        0\n",
       "dtype: int64"
      ]
     },
     "execution_count": 8,
     "metadata": {},
     "output_type": "execute_result"
    }
   ],
   "source": [
    "df.isnull().sum()"
   ]
  },
  {
   "cell_type": "markdown",
   "metadata": {},
   "source": [
    "* The dataset does not have any missing values."
   ]
  },
  {
   "cell_type": "markdown",
   "metadata": {},
   "source": [
    "### Descriptive Statistics"
   ]
  },
  {
   "cell_type": "code",
   "execution_count": 9,
   "metadata": {},
   "outputs": [
    {
     "data": {
      "text/html": [
       "<div>\n",
       "<style scoped>\n",
       "    .dataframe tbody tr th:only-of-type {\n",
       "        vertical-align: middle;\n",
       "    }\n",
       "\n",
       "    .dataframe tbody tr th {\n",
       "        vertical-align: top;\n",
       "    }\n",
       "\n",
       "    .dataframe thead th {\n",
       "        text-align: right;\n",
       "    }\n",
       "</style>\n",
       "<table border=\"1\" class=\"dataframe\">\n",
       "  <thead>\n",
       "    <tr style=\"text-align: right;\">\n",
       "      <th></th>\n",
       "      <th>Unnamed: 0</th>\n",
       "      <th>count_reassign</th>\n",
       "      <th>count_opening</th>\n",
       "      <th>count_updated</th>\n",
       "      <th>impact</th>\n",
       "    </tr>\n",
       "  </thead>\n",
       "  <tbody>\n",
       "    <tr>\n",
       "      <th>count</th>\n",
       "      <td>99198.000000</td>\n",
       "      <td>99198.000000</td>\n",
       "      <td>99198.000000</td>\n",
       "      <td>99198.000000</td>\n",
       "      <td>99198.000000</td>\n",
       "    </tr>\n",
       "    <tr>\n",
       "      <th>mean</th>\n",
       "      <td>70820.997843</td>\n",
       "      <td>1.110426</td>\n",
       "      <td>0.022289</td>\n",
       "      <td>5.096857</td>\n",
       "      <td>1.002782</td>\n",
       "    </tr>\n",
       "    <tr>\n",
       "      <th>std</th>\n",
       "      <td>40938.839626</td>\n",
       "      <td>1.751588</td>\n",
       "      <td>0.211605</td>\n",
       "      <td>7.748275</td>\n",
       "      <td>0.228145</td>\n",
       "    </tr>\n",
       "    <tr>\n",
       "      <th>min</th>\n",
       "      <td>1.000000</td>\n",
       "      <td>0.000000</td>\n",
       "      <td>0.000000</td>\n",
       "      <td>0.000000</td>\n",
       "      <td>0.000000</td>\n",
       "    </tr>\n",
       "    <tr>\n",
       "      <th>25%</th>\n",
       "      <td>35382.750000</td>\n",
       "      <td>0.000000</td>\n",
       "      <td>0.000000</td>\n",
       "      <td>1.000000</td>\n",
       "      <td>1.000000</td>\n",
       "    </tr>\n",
       "    <tr>\n",
       "      <th>50%</th>\n",
       "      <td>70840.500000</td>\n",
       "      <td>1.000000</td>\n",
       "      <td>0.000000</td>\n",
       "      <td>3.000000</td>\n",
       "      <td>1.000000</td>\n",
       "    </tr>\n",
       "    <tr>\n",
       "      <th>75%</th>\n",
       "      <td>106231.500000</td>\n",
       "      <td>1.000000</td>\n",
       "      <td>0.000000</td>\n",
       "      <td>6.000000</td>\n",
       "      <td>1.000000</td>\n",
       "    </tr>\n",
       "    <tr>\n",
       "      <th>max</th>\n",
       "      <td>141711.000000</td>\n",
       "      <td>27.000000</td>\n",
       "      <td>8.000000</td>\n",
       "      <td>128.000000</td>\n",
       "      <td>2.000000</td>\n",
       "    </tr>\n",
       "  </tbody>\n",
       "</table>\n",
       "</div>"
      ],
      "text/plain": [
       "          Unnamed: 0  count_reassign  count_opening  count_updated  \\\n",
       "count   99198.000000    99198.000000   99198.000000   99198.000000   \n",
       "mean    70820.997843        1.110426       0.022289       5.096857   \n",
       "std     40938.839626        1.751588       0.211605       7.748275   \n",
       "min         1.000000        0.000000       0.000000       0.000000   \n",
       "25%     35382.750000        0.000000       0.000000       1.000000   \n",
       "50%     70840.500000        1.000000       0.000000       3.000000   \n",
       "75%    106231.500000        1.000000       0.000000       6.000000   \n",
       "max    141711.000000       27.000000       8.000000     128.000000   \n",
       "\n",
       "             impact  \n",
       "count  99198.000000  \n",
       "mean       1.002782  \n",
       "std        0.228145  \n",
       "min        0.000000  \n",
       "25%        1.000000  \n",
       "50%        1.000000  \n",
       "75%        1.000000  \n",
       "max        2.000000  "
      ]
     },
     "execution_count": 9,
     "metadata": {},
     "output_type": "execute_result"
    }
   ],
   "source": [
    "df.describe()"
   ]
  },
  {
   "cell_type": "markdown",
   "metadata": {},
   "source": [
    "* It seems like we don't have enough numeric variables. The variables above are count variables and the target variable."
   ]
  },
  {
   "cell_type": "markdown",
   "metadata": {},
   "source": [
    "### Correlation"
   ]
  },
  {
   "cell_type": "code",
   "execution_count": 10,
   "metadata": {},
   "outputs": [
    {
     "data": {
      "image/png": "[encoded data removed]",
      "text/plain": [
       "<Figure size 864x576 with 2 Axes>"
      ]
     },
     "metadata": {
      "needs_background": "light"
     },
     "output_type": "display_data"
    }
   ],
   "source": [
    "plt.figure(figsize=(12, 8))\n",
    "heatmap = sns.heatmap(df.corr(), vmin=-1, vmax=1, annot=True, cbar=True, square=True, fmt='.2f')\n",
    "heatmap.set_title('Correlation Heatmap', fontdict={'fontsize':12}, pad=12);"
   ]
  },
  {
   "cell_type": "markdown",
   "metadata": {},
   "source": [
    "* It seems like there is no multicollinearity problem with the data."
   ]
  },
  {
   "cell_type": "markdown",
   "metadata": {},
   "source": [
    "### Preparing the dataset for modeling"
   ]
  },
  {
   "cell_type": "code",
   "execution_count": 11,
   "metadata": {},
   "outputs": [],
   "source": [
    "# Dropping manually added variables\n",
    "df_cleared = df.iloc[:, :18]\n",
    "# Dropping unnecessary variables\n",
    "df_cleared = df_cleared.drop(['Unnamed: 0', 'ID'], axis = 1)"
   ]
  },
  {
   "cell_type": "code",
   "execution_count": 12,
   "metadata": {},
   "outputs": [],
   "source": [
    "# Cleaning variables which have string with numeric values. The code below cleans the strings and keep numeric values.\n",
    "df_cleared['ID_caller'] = df_cleared['ID_caller'].str.replace(r'\\D', '')\n",
    "df_cleared['opened_by'] = df_cleared['opened_by'].str.replace(r'\\D', '')\n",
    "df_cleared['Created_by'] = df_cleared['Created_by'].str.replace(r'\\D', '')\n",
    "df_cleared['updated_by'] = df_cleared['updated_by'].str.replace(r'\\D', '')\n",
    "df_cleared['location'] = df_cleared['location'].str.replace(r'\\D', '')\n",
    "df_cleared['category_ID'] = df_cleared['category_ID'].str.replace(r'\\D', '')\n",
    "df_cleared['user_symptom'] = df_cleared['user_symptom'].str.replace(r'\\D', '')\n"
   ]
  },
  {
   "cell_type": "code",
   "execution_count": 13,
   "metadata": {},
   "outputs": [],
   "source": [
    "# Changing data types of timestamps\n",
    "df_cleared['opened_time'] =  pd.to_numeric(pd.to_datetime(df_cleared['opened_time'], format='%d-%m-%Y %H:%M', errors='coerce'))\n",
    "df_cleared['created_at'] =  pd.to_numeric(pd.to_datetime(df_cleared['created_at'], format='%d-%m-%Y %H:%M', errors='coerce'))\n",
    "df_cleared['updated_at'] =  pd.to_numeric(pd.to_datetime(df_cleared['updated_at'], format='%d-%m-%Y %H:%M', errors='coerce'))"
   ]
  },
  {
   "cell_type": "code",
   "execution_count": 14,
   "metadata": {},
   "outputs": [],
   "source": [
    "# Mapping categorical variables for modeling\n",
    "status_mapping = {'New':1, 'Resolved':2, 'Closed':3, 'Active':4, 'Awaiting User Info':5,\n",
    "       'Awaiting Problem':6, 'Awaiting Vendor':7, 'Awaiting Evidence':8, '-100':9}\n",
    "\n",
    "df_cleared['ID_status'] = df_cleared['ID_status'].map(status_mapping)"
   ]
  },
  {
   "cell_type": "code",
   "execution_count": 15,
   "metadata": {},
   "outputs": [],
   "source": [
    "contact_mapping = {'Phone': 1,\n",
    "                    'Email': 2,\n",
    "                    'Self service': 3,\n",
    "                    'Direct opening': 4,\n",
    "                    'IVR': 5}\n",
    "\n",
    "df_cleared['type_contact'] = df_cleared['type_contact'].map(contact_mapping)"
   ]
  },
  {
   "cell_type": "code",
   "execution_count": 16,
   "metadata": {},
   "outputs": [],
   "source": [
    "df_cleared['active'] = df_cleared['active'] * 1"
   ]
  },
  {
   "cell_type": "code",
   "execution_count": 19,
   "metadata": {},
   "outputs": [],
   "source": [
    "df_cleared.replace(r'^\\s*$', np.nan, regex=True, inplace=True)\n",
    "df_cleared['impact'] = df['impact']\n",
    "df_cleared.dropna(inplace=True)"
   ]
  },
  {
   "cell_type": "markdown",
   "metadata": {},
   "source": [
    "## Build Model"
   ]
  },
  {
   "cell_type": "markdown",
   "metadata": {},
   "source": [
    "The code below splits dataset for train the model and test the validity of the model. 20% of dataset will be used for validation."
   ]
  },
  {
   "cell_type": "code",
   "execution_count": 22,
   "metadata": {},
   "outputs": [
    {
     "name": "stdout",
     "output_type": "stream",
     "text": [
      "(36660, 16)\n",
      "(9165, 16)\n"
     ]
    }
   ],
   "source": [
    "X = df_cleared.drop('impact', axis=1).values\n",
    "y = df_cleared['impact'].values\n",
    "\n",
    "X_train, X_test, y_train, y_test = train_test_split(X, y, test_size=0.20, random_state=40)\n",
    "print(X_train.shape); print(X_test.shape)"
   ]
  },
  {
   "cell_type": "markdown",
   "metadata": {},
   "source": [
    "## Performance Metric"
   ]
  },
  {
   "cell_type": "markdown",
   "metadata": {},
   "source": [
    "**Macro avg =** Calculate metrics for each label, and find their unweighted mean. This does not take label imbalance into account.\n",
    "\n",
    "**Weighted avg =** Calculate metrics for each label, and find their average weighted by support (the number of true instances for each label). This alters ‘macro’ to account for label imbalance; it can result in an F-score that is not between precision and recall."
   ]
  },
  {
   "cell_type": "markdown",
   "metadata": {},
   "source": [
    "**`WARNING`** Since our dataset is imbalanced and the most important goal is correctly predict higher impact, then higher recall is better for each class because the recall rate is penalized whenever a false negative is predicted. So, the weighted avg recall and weighted avg f1-score are the most important metrics for whole model. "
   ]
  },
  {
   "cell_type": "markdown",
   "metadata": {},
   "source": [
    "# Modelling"
   ]
  },
  {
   "cell_type": "markdown",
   "metadata": {},
   "source": [
    "In this part, some of the traditional statistical techniques and machine learning methods will be used for modeling.\n",
    "\n",
    "* kNN\n",
    "* LDA\n",
    "* Naive Bayes\n",
    "* Decision Tree\n",
    "* Random Forest\n",
    "* XGBoost"
   ]
  },
  {
   "cell_type": "markdown",
   "metadata": {},
   "source": [
    "## kNN"
   ]
  },
  {
   "cell_type": "code",
   "execution_count": 23,
   "metadata": {},
   "outputs": [
    {
     "name": "stdout",
     "output_type": "stream",
     "text": [
      "Wall time: 3.94 s\n"
     ]
    }
   ],
   "source": [
    "%%time\n",
    "knn= KNeighborsClassifier()\n",
    "knn_model = knn.fit(X_train, y_train)\n",
    "y_train_pred= knn_model.predict(X_train)\n",
    "y_test_pred = knn_model.predict(X_test)"
   ]
  },
  {
   "cell_type": "code",
   "execution_count": 24,
   "metadata": {},
   "outputs": [
    {
     "data": {
      "image/png": "[encoded data removed]",
      "text/plain": [
       "<Figure size 432x288 with 2 Axes>"
      ]
     },
     "metadata": {
      "needs_background": "light"
     },
     "output_type": "display_data"
    }
   ],
   "source": [
    "knn_cm_te = confusion_matrix(y_test_pred, y_test)\n",
    "labels = [\"True Neg\",\"False Pos\",\"False Neg\",\"True Pos\"]\n",
    "categories = ['High', 'Medium', 'Low']\n",
    "make_confusion_matrix(knn_cm_te, \n",
    "                      group_names=labels,\n",
    "                      categories=categories, \n",
    "                      cmap='Reds')"
   ]
  },
  {
   "cell_type": "code",
   "execution_count": 25,
   "metadata": {},
   "outputs": [
    {
     "name": "stdout",
     "output_type": "stream",
     "text": [
      "              precision    recall  f1-score   support\n",
      "\n",
      "           0      0.432     0.180     0.254       228\n",
      "           1      0.958     0.988     0.973      8690\n",
      "           2      0.454     0.198     0.276       247\n",
      "\n",
      "    accuracy                          0.947      9165\n",
      "   macro avg      0.614     0.455     0.501      9165\n",
      "weighted avg      0.931     0.947     0.936      9165\n",
      "\n"
     ]
    }
   ],
   "source": [
    "print(classification_report(y_test, y_test_pred, digits=3))"
   ]
  },
  {
   "cell_type": "markdown",
   "metadata": {},
   "source": [
    "## LDA"
   ]
  },
  {
   "cell_type": "code",
   "execution_count": 26,
   "metadata": {},
   "outputs": [
    {
     "name": "stdout",
     "output_type": "stream",
     "text": [
      "Wall time: 339 ms\n"
     ]
    }
   ],
   "source": [
    "%%time\n",
    "lda = LinearDiscriminantAnalysis()\n",
    "lda_model = lda.fit(X_train, y_train)\n",
    "y_train_pred = lda_model.predict(X_train)\n",
    "y_test_pred = lda_model.predict(X_test)"
   ]
  },
  {
   "cell_type": "code",
   "execution_count": 27,
   "metadata": {},
   "outputs": [
    {
     "data": {
      "image/png": "[encoded data removed]",
      "text/plain": [
       "<Figure size 432x288 with 2 Axes>"
      ]
     },
     "metadata": {
      "needs_background": "light"
     },
     "output_type": "display_data"
    }
   ],
   "source": [
    "lda_cm_te = confusion_matrix(y_test_pred, y_test)\n",
    "labels = [\"True Neg\",\"False Pos\",\"False Neg\",\"True Pos\"]\n",
    "categories = ['High', 'Medium', 'Low']\n",
    "make_confusion_matrix(lda_cm_te, \n",
    "                      group_names=labels,\n",
    "                      categories=categories, \n",
    "                      cmap='Reds')"
   ]
  },
  {
   "cell_type": "code",
   "execution_count": 28,
   "metadata": {},
   "outputs": [
    {
     "name": "stdout",
     "output_type": "stream",
     "text": [
      "              precision    recall  f1-score   support\n",
      "\n",
      "           0      0.062     0.004     0.008       228\n",
      "           1      0.948     0.996     0.971      8690\n",
      "           2      0.000     0.000     0.000       247\n",
      "\n",
      "    accuracy                          0.945      9165\n",
      "   macro avg      0.337     0.333     0.327      9165\n",
      "weighted avg      0.901     0.945     0.921      9165\n",
      "\n"
     ]
    }
   ],
   "source": [
    "print(classification_report(y_test, y_test_pred, digits=3))"
   ]
  },
  {
   "cell_type": "markdown",
   "metadata": {},
   "source": [
    "## Naive Bayes"
   ]
  },
  {
   "cell_type": "code",
   "execution_count": 29,
   "metadata": {},
   "outputs": [
    {
     "name": "stdout",
     "output_type": "stream",
     "text": [
      "Wall time: 266 ms\n"
     ]
    }
   ],
   "source": [
    "%%time\n",
    "# training the model on training set \n",
    "nb = GaussianNB() \n",
    "nb_model = nb.fit(X_train, y_train) \n",
    "y_train_pred = nb_model.predict(X_train)\n",
    "\n",
    "# making predictions on the testing set \n",
    "y_test_pred = nb_model.predict(X_test) "
   ]
  },
  {
   "cell_type": "code",
   "execution_count": 30,
   "metadata": {},
   "outputs": [
    {
     "data": {
      "image/png": "[encoded data removed]",
      "text/plain": [
       "<Figure size 432x288 with 2 Axes>"
      ]
     },
     "metadata": {
      "needs_background": "light"
     },
     "output_type": "display_data"
    }
   ],
   "source": [
    "nb_cm_te = confusion_matrix(y_test_pred, y_test)\n",
    "labels = [\"True Neg\",\"False Pos\",\"False Neg\",\"True Pos\"]\n",
    "categories = ['High', 'Medium', 'Low']\n",
    "make_confusion_matrix(nb_cm_te, \n",
    "                      group_names=labels,\n",
    "                      categories=categories, \n",
    "                      cmap='Reds')"
   ]
  },
  {
   "cell_type": "code",
   "execution_count": 31,
   "metadata": {},
   "outputs": [
    {
     "name": "stdout",
     "output_type": "stream",
     "text": [
      "              precision    recall  f1-score   support\n",
      "\n",
      "           0      0.064     0.031     0.042       228\n",
      "           1      0.948     0.988     0.968      8690\n",
      "           2      0.000     0.000     0.000       247\n",
      "\n",
      "    accuracy                          0.938      9165\n",
      "   macro avg      0.338     0.340     0.336      9165\n",
      "weighted avg      0.901     0.938     0.919      9165\n",
      "\n"
     ]
    },
    {
     "name": "stderr",
     "output_type": "stream",
     "text": [
      "c:\\Users\\80300609\\AppData\\Local\\Programs\\Python\\Python39\\lib\\site-packages\\sklearn\\metrics\\_classification.py:1327: UndefinedMetricWarning: Precision and F-score are ill-defined and being set to 0.0 in labels with no predicted samples. Use `zero_division` parameter to control this behavior.\n",
      "  _warn_prf(average, modifier, msg_start, len(result))\n",
      "c:\\Users\\80300609\\AppData\\Local\\Programs\\Python\\Python39\\lib\\site-packages\\sklearn\\metrics\\_classification.py:1327: UndefinedMetricWarning: Precision and F-score are ill-defined and being set to 0.0 in labels with no predicted samples. Use `zero_division` parameter to control this behavior.\n",
      "  _warn_prf(average, modifier, msg_start, len(result))\n",
      "c:\\Users\\80300609\\AppData\\Local\\Programs\\Python\\Python39\\lib\\site-packages\\sklearn\\metrics\\_classification.py:1327: UndefinedMetricWarning: Precision and F-score are ill-defined and being set to 0.0 in labels with no predicted samples. Use `zero_division` parameter to control this behavior.\n",
      "  _warn_prf(average, modifier, msg_start, len(result))\n"
     ]
    }
   ],
   "source": [
    "print(classification_report(y_test, y_test_pred, digits=3))"
   ]
  },
  {
   "cell_type": "markdown",
   "metadata": {},
   "source": [
    "## Tree"
   ]
  },
  {
   "cell_type": "code",
   "execution_count": 32,
   "metadata": {},
   "outputs": [
    {
     "name": "stdout",
     "output_type": "stream",
     "text": [
      "Wall time: 510 ms\n"
     ]
    }
   ],
   "source": [
    "%%time\n",
    "dt = DecisionTreeClassifier()\n",
    "dt_model = dt.fit(X_train,y_train)\n",
    "y_train_pred= dt_model.predict(X_train)\n",
    "\n",
    "#Predict the response for test dataset\n",
    "y_test_pred = dt_model.predict(X_test)"
   ]
  },
  {
   "cell_type": "code",
   "execution_count": 33,
   "metadata": {},
   "outputs": [
    {
     "data": {
      "image/png": "[encoded data removed]",
      "text/plain": [
       "<Figure size 432x288 with 2 Axes>"
      ]
     },
     "metadata": {
      "needs_background": "light"
     },
     "output_type": "display_data"
    }
   ],
   "source": [
    "dt_cm_te = confusion_matrix(y_test_pred, y_test)\n",
    "labels = [\"True Neg\",\"False Pos\",\"False Neg\",\"True Pos\"]\n",
    "categories = ['High', 'Medium', 'Low']\n",
    "make_confusion_matrix(dt_cm_te, \n",
    "                      group_names=labels,\n",
    "                      categories=categories, \n",
    "                      cmap='Reds')"
   ]
  },
  {
   "cell_type": "code",
   "execution_count": 34,
   "metadata": {},
   "outputs": [
    {
     "name": "stdout",
     "output_type": "stream",
     "text": [
      "              precision    recall  f1-score   support\n",
      "\n",
      "           0      0.756     0.789     0.773       228\n",
      "           1      0.994     0.991     0.992      8690\n",
      "           2      0.896     0.943     0.919       247\n",
      "\n",
      "    accuracy                          0.985      9165\n",
      "   macro avg      0.882     0.908     0.895      9165\n",
      "weighted avg      0.985     0.985     0.985      9165\n",
      "\n"
     ]
    }
   ],
   "source": [
    "print(classification_report(y_test, y_test_pred, digits=3))"
   ]
  },
  {
   "cell_type": "markdown",
   "metadata": {},
   "source": [
    "## Random Forest"
   ]
  },
  {
   "cell_type": "code",
   "execution_count": 35,
   "metadata": {},
   "outputs": [
    {
     "name": "stdout",
     "output_type": "stream",
     "text": [
      "Wall time: 1.36 s\n"
     ]
    }
   ],
   "source": [
    "%%time\n",
    "rf = RandomForestClassifier(n_estimators=20, random_state=0)\n",
    "model_rf = rf.fit(X_train, y_train)\n",
    "y_train_pred = model_rf.predict(X_train)\n",
    "y_test_pred = model_rf.predict(X_test)"
   ]
  },
  {
   "cell_type": "code",
   "execution_count": 36,
   "metadata": {},
   "outputs": [
    {
     "data": {
      "image/png": "[encoded data removed]",
      "text/plain": [
       "<Figure size 432x288 with 2 Axes>"
      ]
     },
     "metadata": {
      "needs_background": "light"
     },
     "output_type": "display_data"
    }
   ],
   "source": [
    "rf_cm_te = confusion_matrix(y_test_pred, y_test)\n",
    "labels = [\"True Neg\",\"False Pos\",\"False Neg\",\"True Pos\"]\n",
    "categories = ['High', 'Medium', 'Low']\n",
    "make_confusion_matrix(rf_cm_te, \n",
    "                      group_names=labels,\n",
    "                      categories=categories, \n",
    "                      cmap='Reds')"
   ]
  },
  {
   "cell_type": "code",
   "execution_count": 37,
   "metadata": {},
   "outputs": [
    {
     "name": "stdout",
     "output_type": "stream",
     "text": [
      "              precision    recall  f1-score   support\n",
      "\n",
      "           0      0.946     0.693     0.800       228\n",
      "           1      0.987     0.999     0.993      8690\n",
      "           2      0.981     0.830     0.899       247\n",
      "\n",
      "    accuracy                          0.987      9165\n",
      "   macro avg      0.971     0.841     0.897      9165\n",
      "weighted avg      0.986     0.987     0.986      9165\n",
      "\n"
     ]
    }
   ],
   "source": [
    "print(classification_report(y_test, y_test_pred, digits=3))"
   ]
  },
  {
   "cell_type": "markdown",
   "metadata": {},
   "source": [
    "## XGBOOST"
   ]
  },
  {
   "cell_type": "code",
   "execution_count": 38,
   "metadata": {},
   "outputs": [
    {
     "name": "stdout",
     "output_type": "stream",
     "text": [
      "Wall time: 6.13 s\n"
     ]
    }
   ],
   "source": [
    "%%time\n",
    "XGBoost = xgb.XGBClassifier()\n",
    "xgb_model = XGBoost.fit(X_train, y_train)\n",
    "y_train_pred= xgb_model.predict(X_train)\n",
    "y_test_pred = xgb_model.predict(X_test)"
   ]
  },
  {
   "cell_type": "code",
   "execution_count": 39,
   "metadata": {},
   "outputs": [
    {
     "data": {
      "image/png": "[encoded data removed]",
      "text/plain": [
       "<Figure size 432x288 with 2 Axes>"
      ]
     },
     "metadata": {
      "needs_background": "light"
     },
     "output_type": "display_data"
    }
   ],
   "source": [
    "xgb_cm_te = confusion_matrix(y_test_pred, y_test)\n",
    "labels = [\"True Neg\",\"False Pos\",\"False Neg\",\"True Pos\"]\n",
    "categories = ['High', 'Medium', 'Low']\n",
    "make_confusion_matrix(xgb_cm_te, \n",
    "                      group_names=labels,\n",
    "                      categories=categories, \n",
    "                      cmap='Reds')"
   ]
  },
  {
   "cell_type": "code",
   "execution_count": 40,
   "metadata": {},
   "outputs": [
    {
     "name": "stdout",
     "output_type": "stream",
     "text": [
      "              precision    recall  f1-score   support\n",
      "\n",
      "           0      0.953     0.618     0.750       228\n",
      "           1      0.987     0.999     0.993      8690\n",
      "           2      0.982     0.891     0.934       247\n",
      "\n",
      "    accuracy                          0.987      9165\n",
      "   macro avg      0.974     0.836     0.892      9165\n",
      "weighted avg      0.986     0.987     0.985      9165\n",
      "\n"
     ]
    }
   ],
   "source": [
    "print(classification_report(y_test, y_test_pred, digits=3))"
   ]
  },
  {
   "cell_type": "markdown",
   "metadata": {},
   "source": [
    "Based on the weighed average recall and weighted average f1-score, the best techniques are Random Forest, XGBoost and Decision Tree, respectively.\n",
    "In further steps, these models can be tuned to find the best parameters and models."
   ]
  },
  {
   "cell_type": "markdown",
   "metadata": {},
   "source": [
    "### Feature Importance"
   ]
  },
  {
   "cell_type": "markdown",
   "metadata": {},
   "source": [
    "Let's see which variables are the better at prediction of target variable __*impact*__."
   ]
  },
  {
   "cell_type": "code",
   "execution_count": 43,
   "metadata": {},
   "outputs": [
    {
     "data": {
      "text/html": [
       "<div>\n",
       "<style scoped>\n",
       "    .dataframe tbody tr th:only-of-type {\n",
       "        vertical-align: middle;\n",
       "    }\n",
       "\n",
       "    .dataframe tbody tr th {\n",
       "        vertical-align: top;\n",
       "    }\n",
       "\n",
       "    .dataframe thead th {\n",
       "        text-align: right;\n",
       "    }\n",
       "</style>\n",
       "<table border=\"1\" class=\"dataframe\">\n",
       "  <thead>\n",
       "    <tr style=\"text-align: right;\">\n",
       "      <th></th>\n",
       "      <th>feature.importance</th>\n",
       "      <th>feature</th>\n",
       "    </tr>\n",
       "  </thead>\n",
       "  <tbody>\n",
       "    <tr>\n",
       "      <th>8</th>\n",
       "      <td>0.179904</td>\n",
       "      <td>opened_by</td>\n",
       "    </tr>\n",
       "    <tr>\n",
       "      <th>6</th>\n",
       "      <td>0.127092</td>\n",
       "      <td>count_updated</td>\n",
       "    </tr>\n",
       "    <tr>\n",
       "      <th>7</th>\n",
       "      <td>0.087955</td>\n",
       "      <td>ID_caller</td>\n",
       "    </tr>\n",
       "    <tr>\n",
       "      <th>3</th>\n",
       "      <td>0.075073</td>\n",
       "      <td>active</td>\n",
       "    </tr>\n",
       "    <tr>\n",
       "      <th>9</th>\n",
       "      <td>0.066905</td>\n",
       "      <td>opened_time</td>\n",
       "    </tr>\n",
       "    <tr>\n",
       "      <th>14</th>\n",
       "      <td>0.064890</td>\n",
       "      <td>type_contact</td>\n",
       "    </tr>\n",
       "    <tr>\n",
       "      <th>5</th>\n",
       "      <td>0.062118</td>\n",
       "      <td>count_opening</td>\n",
       "    </tr>\n",
       "    <tr>\n",
       "      <th>13</th>\n",
       "      <td>0.056815</td>\n",
       "      <td>updated_at</td>\n",
       "    </tr>\n",
       "    <tr>\n",
       "      <th>15</th>\n",
       "      <td>0.052563</td>\n",
       "      <td>location</td>\n",
       "    </tr>\n",
       "    <tr>\n",
       "      <th>2</th>\n",
       "      <td>0.047683</td>\n",
       "      <td>ID_status</td>\n",
       "    </tr>\n",
       "    <tr>\n",
       "      <th>0</th>\n",
       "      <td>0.043533</td>\n",
       "      <td>Unnamed: 0</td>\n",
       "    </tr>\n",
       "    <tr>\n",
       "      <th>11</th>\n",
       "      <td>0.038142</td>\n",
       "      <td>created_at</td>\n",
       "    </tr>\n",
       "    <tr>\n",
       "      <th>10</th>\n",
       "      <td>0.034848</td>\n",
       "      <td>Created_by</td>\n",
       "    </tr>\n",
       "    <tr>\n",
       "      <th>4</th>\n",
       "      <td>0.033010</td>\n",
       "      <td>count_reassign</td>\n",
       "    </tr>\n",
       "    <tr>\n",
       "      <th>12</th>\n",
       "      <td>0.018704</td>\n",
       "      <td>updated_by</td>\n",
       "    </tr>\n",
       "    <tr>\n",
       "      <th>1</th>\n",
       "      <td>0.010765</td>\n",
       "      <td>ID</td>\n",
       "    </tr>\n",
       "  </tbody>\n",
       "</table>\n",
       "</div>"
      ],
      "text/plain": [
       "    feature.importance         feature\n",
       "8             0.179904       opened_by\n",
       "6             0.127092   count_updated\n",
       "7             0.087955       ID_caller\n",
       "3             0.075073          active\n",
       "9             0.066905     opened_time\n",
       "14            0.064890    type_contact\n",
       "5             0.062118   count_opening\n",
       "13            0.056815      updated_at\n",
       "15            0.052563        location\n",
       "2             0.047683       ID_status\n",
       "0             0.043533      Unnamed: 0\n",
       "11            0.038142      created_at\n",
       "10            0.034848      Created_by\n",
       "4             0.033010  count_reassign\n",
       "12            0.018704      updated_by\n",
       "1             0.010765              ID"
      ]
     },
     "execution_count": 43,
     "metadata": {},
     "output_type": "execute_result"
    }
   ],
   "source": [
    "xgb_model.feature_importances_\n",
    "feature_importance_df = pd.DataFrame(list(zip(xgb_model.feature_importances_, df.drop(['impact'], axis = 1))))\n",
    "feature_importance_df.columns = ['feature.importance', 'feature']\n",
    "feat_sorted = feature_importance_df.sort_values(by='feature.importance', ascending=False)\n",
    "feat_sorted"
   ]
  },
  {
   "cell_type": "code",
   "execution_count": 44,
   "metadata": {},
   "outputs": [
    {
     "data": {
      "text/plain": [
       "<AxesSubplot:xlabel='feature'>"
      ]
     },
     "execution_count": 44,
     "metadata": {},
     "output_type": "execute_result"
    },
    {
     "data": {
      "image/png": "[encoded data removed]",
      "text/plain": [
       "<Figure size 432x288 with 1 Axes>"
      ]
     },
     "metadata": {
      "needs_background": "light"
     },
     "output_type": "display_data"
    }
   ],
   "source": [
    "feat_sorted.plot(kind='bar', x='feature')"
   ]
  },
  {
   "cell_type": "markdown",
   "metadata": {},
   "source": [
    "It seems like the most important features for classifying impact are;\n",
    "\n",
    "* The user who reported the incidents. It means that some users have higher priority.\n",
    "* Number of incident updates until that moment. It might be the reason that approaches to solve the incident didn't work. So, solving the incident becomes important.\n",
    "* Identifier of the user affected. So, some users' incidents have higher impact and IT team wants to solve it asap.\n",
    "* Lastly, status of the incident is another important feature."
   ]
  }
 ],
 "metadata": {
  "interpreter": {
   "hash": "3913fd7091f8d3269a650981d0414db824d37c8610374812ce9db0293b08eef5"
  },
  "kernelspec": {
   "display_name": "Python 3.9.7 64-bit",
   "language": "python",
   "name": "python3"
  },
  "language_info": {
   "codemirror_mode": {
    "name": "ipython",
    "version": 3
   },
   "file_extension": ".py",
   "mimetype": "text/x-python",
   "name": "python",
   "nbconvert_exporter": "python",
   "pygments_lexer": "ipython3",
   "version": "3.9.7"
  },
  "orig_nbformat": 4
 },
 "nbformat": 4,
 "nbformat_minor": 2
}
